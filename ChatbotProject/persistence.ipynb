{
 "cells": [
  {
   "cell_type": "code",
   "execution_count": 3,
   "id": "e172b755",
   "metadata": {},
   "outputs": [],
   "source": [
    "from langgraph.graph import StateGraph, START, END\n",
    "from langchain_google_genai import ChatGoogleGenerativeAI\n",
    "from typing import TypedDict\n",
    "from dotenv import load_dotenv\n",
    "from langgraph.checkpoint.memory import InMemorySaver"
   ]
  },
  {
   "cell_type": "code",
   "execution_count": 4,
   "id": "ded2705b",
   "metadata": {},
   "outputs": [],
   "source": [
    "import os \n",
    "load_dotenv()\n",
    "api_key = os.getenv(\"GOOGLE_API_KEY\")\n",
    "\n",
    "llm = ChatGoogleGenerativeAI(\n",
    "    model=\"gemini-2.5-flash\",\n",
    "    api_key = api_key\n",
    ")"
   ]
  },
  {
   "cell_type": "code",
   "execution_count": 5,
   "id": "b2909239",
   "metadata": {},
   "outputs": [],
   "source": [
    "class JokeState(TypedDict):\n",
    "\n",
    "    topic: str\n",
    "    joke: str\n",
    "    explanation: str"
   ]
  },
  {
   "cell_type": "code",
   "execution_count": 6,
   "id": "9b5113d5",
   "metadata": {},
   "outputs": [],
   "source": [
    "def generate_joke(state: JokeState):\n",
    "\n",
    "    prompt = f'generate a joke on the topic {state[\"topic\"]}'\n",
    "    response = llm.invoke(prompt).content\n",
    "\n",
    "    return {'joke': response}"
   ]
  },
  {
   "cell_type": "code",
   "execution_count": 7,
   "id": "4a5b4811",
   "metadata": {},
   "outputs": [],
   "source": [
    "def generate_explanation(state: JokeState):\n",
    "\n",
    "    prompt = f'write an explanation for the joke - {state[\"joke\"]}'\n",
    "    response = llm.invoke(prompt).content\n",
    "\n",
    "    return {'explanation': response}"
   ]
  },
  {
   "cell_type": "code",
   "execution_count": 9,
   "id": "6399944e",
   "metadata": {},
   "outputs": [],
   "source": [
    "graph = StateGraph(JokeState)\n",
    "\n",
    "graph.add_node('generate_joke', generate_joke)\n",
    "graph.add_node('generate_explanation', generate_explanation)\n",
    "\n",
    "graph.add_edge(START, 'generate_joke')\n",
    "graph.add_edge('generate_joke', 'generate_explanation')\n",
    "graph.add_edge('generate_explanation', END)\n",
    "\n",
    "checkpointer = InMemorySaver()\n",
    "\n",
    "workflow = graph.compile(checkpointer=checkpointer)"
   ]
  },
  {
   "cell_type": "code",
   "execution_count": 10,
   "id": "41ed8755",
   "metadata": {},
   "outputs": [
    {
     "data": {
      "text/plain": [
       "{'topic': 'pizza',\n",
       " 'joke': 'Why did the pizza maker always have plenty of money?\\n\\nBecause he knew how to make a lot of **dough**!',\n",
       " 'explanation': 'This joke is a classic **pun**, playing on the word \"dough\" having two different meanings:\\n\\n1.  **Literal Meaning (related to pizza making):** \"Dough\" is the mixture of flour, water, and other ingredients that you use to make bread, pizza crust, pastries, etc. A pizza maker literally \"makes a lot of dough\" in their job.\\n2.  **Slang Meaning:** \"Dough\" is a common informal term for **money**.\\n\\nThe humor comes from the setup asking about the pizza maker having \"plenty of money.\" The punchline then uses \"dough\" in a way that *seems* to refer to the literal pizza ingredient, but cleverly implies the slang meaning of \"money,\" providing a funny and unexpected answer to the question.\\n\\nSo, he has plenty of money because he knows how to make a lot of **money** (dough)!'}"
      ]
     },
     "execution_count": 10,
     "metadata": {},
     "output_type": "execute_result"
    }
   ],
   "source": [
    "config1 = {\"configurable\": {\"thread_id\": \"1\"}}\n",
    "workflow.invoke({'topic':'pizza'}, config=config1)"
   ]
  },
  {
   "cell_type": "code",
   "execution_count": 11,
   "id": "034954a6",
   "metadata": {},
   "outputs": [
    {
     "data": {
      "text/plain": [
       "StateSnapshot(values={'topic': 'pizza', 'joke': 'Why did the pizza maker always have plenty of money?\\n\\nBecause he knew how to make a lot of **dough**!', 'explanation': 'This joke is a classic **pun**, playing on the word \"dough\" having two different meanings:\\n\\n1.  **Literal Meaning (related to pizza making):** \"Dough\" is the mixture of flour, water, and other ingredients that you use to make bread, pizza crust, pastries, etc. A pizza maker literally \"makes a lot of dough\" in their job.\\n2.  **Slang Meaning:** \"Dough\" is a common informal term for **money**.\\n\\nThe humor comes from the setup asking about the pizza maker having \"plenty of money.\" The punchline then uses \"dough\" in a way that *seems* to refer to the literal pizza ingredient, but cleverly implies the slang meaning of \"money,\" providing a funny and unexpected answer to the question.\\n\\nSo, he has plenty of money because he knows how to make a lot of **money** (dough)!'}, next=(), config={'configurable': {'thread_id': '1', 'checkpoint_ns': '', 'checkpoint_id': '1f0a1bf6-59b8-6395-8002-9bad6a287845'}}, metadata={'source': 'loop', 'step': 2, 'parents': {}}, created_at='2025-10-05T07:46:26.400142+00:00', parent_config={'configurable': {'thread_id': '1', 'checkpoint_ns': '', 'checkpoint_id': '1f0a1bf6-1656-6b68-8001-525e9ec34089'}}, tasks=(), interrupts=())"
      ]
     },
     "execution_count": 11,
     "metadata": {},
     "output_type": "execute_result"
    }
   ],
   "source": [
    "workflow.get_state(config1)"
   ]
  },
  {
   "cell_type": "code",
   "execution_count": 12,
   "id": "2f522292",
   "metadata": {},
   "outputs": [
    {
     "data": {
      "text/plain": [
       "[StateSnapshot(values={'topic': 'pizza', 'joke': 'Why did the pizza maker always have plenty of money?\\n\\nBecause he knew how to make a lot of **dough**!', 'explanation': 'This joke is a classic **pun**, playing on the word \"dough\" having two different meanings:\\n\\n1.  **Literal Meaning (related to pizza making):** \"Dough\" is the mixture of flour, water, and other ingredients that you use to make bread, pizza crust, pastries, etc. A pizza maker literally \"makes a lot of dough\" in their job.\\n2.  **Slang Meaning:** \"Dough\" is a common informal term for **money**.\\n\\nThe humor comes from the setup asking about the pizza maker having \"plenty of money.\" The punchline then uses \"dough\" in a way that *seems* to refer to the literal pizza ingredient, but cleverly implies the slang meaning of \"money,\" providing a funny and unexpected answer to the question.\\n\\nSo, he has plenty of money because he knows how to make a lot of **money** (dough)!'}, next=(), config={'configurable': {'thread_id': '1', 'checkpoint_ns': '', 'checkpoint_id': '1f0a1bf6-59b8-6395-8002-9bad6a287845'}}, metadata={'source': 'loop', 'step': 2, 'parents': {}}, created_at='2025-10-05T07:46:26.400142+00:00', parent_config={'configurable': {'thread_id': '1', 'checkpoint_ns': '', 'checkpoint_id': '1f0a1bf6-1656-6b68-8001-525e9ec34089'}}, tasks=(), interrupts=()),\n",
       " StateSnapshot(values={'topic': 'pizza', 'joke': 'Why did the pizza maker always have plenty of money?\\n\\nBecause he knew how to make a lot of **dough**!'}, next=('generate_explanation',), config={'configurable': {'thread_id': '1', 'checkpoint_ns': '', 'checkpoint_id': '1f0a1bf6-1656-6b68-8001-525e9ec34089'}}, metadata={'source': 'loop', 'step': 1, 'parents': {}}, created_at='2025-10-05T07:46:19.334743+00:00', parent_config={'configurable': {'thread_id': '1', 'checkpoint_ns': '', 'checkpoint_id': '1f0a1bf5-cf5c-6ab0-8000-fd287098aa24'}}, tasks=(PregelTask(id='a4d35444-0abb-d5cc-556f-558a987aa812', name='generate_explanation', path=('__pregel_pull', 'generate_explanation'), error=None, interrupts=(), state=None, result={'explanation': 'This joke is a classic **pun**, playing on the word \"dough\" having two different meanings:\\n\\n1.  **Literal Meaning (related to pizza making):** \"Dough\" is the mixture of flour, water, and other ingredients that you use to make bread, pizza crust, pastries, etc. A pizza maker literally \"makes a lot of dough\" in their job.\\n2.  **Slang Meaning:** \"Dough\" is a common informal term for **money**.\\n\\nThe humor comes from the setup asking about the pizza maker having \"plenty of money.\" The punchline then uses \"dough\" in a way that *seems* to refer to the literal pizza ingredient, but cleverly implies the slang meaning of \"money,\" providing a funny and unexpected answer to the question.\\n\\nSo, he has plenty of money because he knows how to make a lot of **money** (dough)!'}),), interrupts=()),\n",
       " StateSnapshot(values={'topic': 'pizza'}, next=('generate_joke',), config={'configurable': {'thread_id': '1', 'checkpoint_ns': '', 'checkpoint_id': '1f0a1bf5-cf5c-6ab0-8000-fd287098aa24'}}, metadata={'source': 'loop', 'step': 0, 'parents': {}}, created_at='2025-10-05T07:46:11.892292+00:00', parent_config={'configurable': {'thread_id': '1', 'checkpoint_ns': '', 'checkpoint_id': '1f0a1bf5-cf54-6691-bfff-74d07d37318c'}}, tasks=(PregelTask(id='c9619287-e07c-627a-d9ea-09d874c27cbf', name='generate_joke', path=('__pregel_pull', 'generate_joke'), error=None, interrupts=(), state=None, result={'joke': 'Why did the pizza maker always have plenty of money?\\n\\nBecause he knew how to make a lot of **dough**!'}),), interrupts=()),\n",
       " StateSnapshot(values={}, next=('__start__',), config={'configurable': {'thread_id': '1', 'checkpoint_ns': '', 'checkpoint_id': '1f0a1bf5-cf54-6691-bfff-74d07d37318c'}}, metadata={'source': 'input', 'step': -1, 'parents': {}}, created_at='2025-10-05T07:46:11.888910+00:00', parent_config=None, tasks=(PregelTask(id='9597b19f-9362-93c1-6609-3c01f5a9d754', name='__start__', path=('__pregel_pull', '__start__'), error=None, interrupts=(), state=None, result={'topic': 'pizza'}),), interrupts=())]"
      ]
     },
     "execution_count": 12,
     "metadata": {},
     "output_type": "execute_result"
    }
   ],
   "source": [
    "list(workflow.get_state_history(config1))"
   ]
  },
  {
   "cell_type": "code",
   "execution_count": 12,
   "id": "ff92fb41",
   "metadata": {},
   "outputs": [
    {
     "data": {
      "text/plain": [
       "{'topic': 'pasta',\n",
       " 'joke': 'Why did the pasta break up with the sauce?\\n\\nBecause it was tired of feeling so **saucy** all the time!',\n",
       " 'explanation': 'This joke is a pun that plays on the word \"**saucy**\" and the personification of pasta.\\n\\nHere\\'s the breakdown:\\n\\n1.  **Literal Meaning (Food):** When pasta is mixed with sauce, it is literally \"saucy\" – meaning it\\'s covered in or full of sauce. This is the initial, surface-level understanding the joke sets up.\\n\\n2.  **Figurative Meaning (Personality):** \"Saucy\" also has a common figurative meaning when describing a person\\'s behavior. It means to be:\\n    *   **Cheeky or disrespectful** in a lively or impudent way.\\n    *   **Bold, sassy, or impertinent.**\\n    *   Sometimes flirtatious or suggestive.\\n\\n3.  **The Punchline:** The humor comes from the joke giving the pasta human emotions and intentions (personification). The pasta \"breaks up\" with the sauce because it\\'s tired of feeling \"saucy\" – not just literally covered in sauce, but *figuratively* tired of being cheeky, bold, or sassy all the time.\\n\\nSo, the joke makes you think of the literal food meaning, but then delivers the punchline using the figurative personality meaning, creating a playful and unexpected twist!'}"
      ]
     },
     "execution_count": 12,
     "metadata": {},
     "output_type": "execute_result"
    }
   ],
   "source": [
    "config2 = {\"configurable\": {\"thread_id\": \"2\"}}\n",
    "workflow.invoke({'topic':'pasta'}, config=config2)"
   ]
  },
  {
   "cell_type": "code",
   "execution_count": null,
   "id": "14cc5855",
   "metadata": {},
   "outputs": [],
   "source": [
    "workflow.get_state(config2)"
   ]
  },
  {
   "cell_type": "code",
   "execution_count": 14,
   "id": "d38da8ed",
   "metadata": {},
   "outputs": [
    {
     "data": {
      "text/plain": [
       "[StateSnapshot(values={'topic': 'pasta', 'joke': 'Why did the pasta break up with the sauce?\\n\\nBecause it was tired of feeling so **saucy** all the time!', 'explanation': 'This joke is a pun that plays on the word \"**saucy**\" and the personification of pasta.\\n\\nHere\\'s the breakdown:\\n\\n1.  **Literal Meaning (Food):** When pasta is mixed with sauce, it is literally \"saucy\" – meaning it\\'s covered in or full of sauce. This is the initial, surface-level understanding the joke sets up.\\n\\n2.  **Figurative Meaning (Personality):** \"Saucy\" also has a common figurative meaning when describing a person\\'s behavior. It means to be:\\n    *   **Cheeky or disrespectful** in a lively or impudent way.\\n    *   **Bold, sassy, or impertinent.**\\n    *   Sometimes flirtatious or suggestive.\\n\\n3.  **The Punchline:** The humor comes from the joke giving the pasta human emotions and intentions (personification). The pasta \"breaks up\" with the sauce because it\\'s tired of feeling \"saucy\" – not just literally covered in sauce, but *figuratively* tired of being cheeky, bold, or sassy all the time.\\n\\nSo, the joke makes you think of the literal food meaning, but then delivers the punchline using the figurative personality meaning, creating a playful and unexpected twist!'}, next=(), config={'configurable': {'thread_id': '2', 'checkpoint_ns': '', 'checkpoint_id': '1f0a1bd1-3fa2-6941-8002-db06103faff8'}}, metadata={'source': 'loop', 'step': 2, 'parents': {}}, created_at='2025-10-05T07:29:50.453792+00:00', parent_config={'configurable': {'thread_id': '2', 'checkpoint_ns': '', 'checkpoint_id': '1f0a1bd0-f870-6466-8001-392e28052466'}}, tasks=(), interrupts=()),\n",
       " StateSnapshot(values={'topic': 'pasta', 'joke': 'Why did the pasta break up with the sauce?\\n\\nBecause it was tired of feeling so **saucy** all the time!'}, next=('generate_explanation',), config={'configurable': {'thread_id': '2', 'checkpoint_ns': '', 'checkpoint_id': '1f0a1bd0-f870-6466-8001-392e28052466'}}, metadata={'source': 'loop', 'step': 1, 'parents': {}}, created_at='2025-10-05T07:29:42.988298+00:00', parent_config={'configurable': {'thread_id': '2', 'checkpoint_ns': '', 'checkpoint_id': '1f0a1bd0-9e59-6ae1-8000-738dd4cfad0a'}}, tasks=(PregelTask(id='31a338b0-1743-e822-aa85-1a1d95fa6e29', name='generate_explanation', path=('__pregel_pull', 'generate_explanation'), error=None, interrupts=(), state=None, result={'explanation': 'This joke is a pun that plays on the word \"**saucy**\" and the personification of pasta.\\n\\nHere\\'s the breakdown:\\n\\n1.  **Literal Meaning (Food):** When pasta is mixed with sauce, it is literally \"saucy\" – meaning it\\'s covered in or full of sauce. This is the initial, surface-level understanding the joke sets up.\\n\\n2.  **Figurative Meaning (Personality):** \"Saucy\" also has a common figurative meaning when describing a person\\'s behavior. It means to be:\\n    *   **Cheeky or disrespectful** in a lively or impudent way.\\n    *   **Bold, sassy, or impertinent.**\\n    *   Sometimes flirtatious or suggestive.\\n\\n3.  **The Punchline:** The humor comes from the joke giving the pasta human emotions and intentions (personification). The pasta \"breaks up\" with the sauce because it\\'s tired of feeling \"saucy\" – not just literally covered in sauce, but *figuratively* tired of being cheeky, bold, or sassy all the time.\\n\\nSo, the joke makes you think of the literal food meaning, but then delivers the punchline using the figurative personality meaning, creating a playful and unexpected twist!'}),), interrupts=()),\n",
       " StateSnapshot(values={'topic': 'pasta'}, next=('generate_joke',), config={'configurable': {'thread_id': '2', 'checkpoint_ns': '', 'checkpoint_id': '1f0a1bd0-9e59-6ae1-8000-738dd4cfad0a'}}, metadata={'source': 'loop', 'step': 0, 'parents': {}}, created_at='2025-10-05T07:29:33.541859+00:00', parent_config={'configurable': {'thread_id': '2', 'checkpoint_ns': '', 'checkpoint_id': '1f0a1bd0-9e57-65ce-bfff-059c87e5bda9'}}, tasks=(PregelTask(id='3a7bc148-919d-d790-f6c6-1c2b5c442b63', name='generate_joke', path=('__pregel_pull', 'generate_joke'), error=None, interrupts=(), state=None, result={'joke': 'Why did the pasta break up with the sauce?\\n\\nBecause it was tired of feeling so **saucy** all the time!'}),), interrupts=()),\n",
       " StateSnapshot(values={}, next=('__start__',), config={'configurable': {'thread_id': '2', 'checkpoint_ns': '', 'checkpoint_id': '1f0a1bd0-9e57-65ce-bfff-059c87e5bda9'}}, metadata={'source': 'input', 'step': -1, 'parents': {}}, created_at='2025-10-05T07:29:33.540910+00:00', parent_config=None, tasks=(PregelTask(id='ece76ac3-9e50-1269-a0b8-6b2705f16692', name='__start__', path=('__pregel_pull', '__start__'), error=None, interrupts=(), state=None, result={'topic': 'pasta'}),), interrupts=())]"
      ]
     },
     "execution_count": 14,
     "metadata": {},
     "output_type": "execute_result"
    }
   ],
   "source": [
    "list(workflow.get_state_history(config2))"
   ]
  },
  {
   "cell_type": "markdown",
   "id": "f69c5cf4",
   "metadata": {},
   "source": [
    "# Fault Tolerence"
   ]
  },
  {
   "cell_type": "code",
   "execution_count": 4,
   "id": "7cf537dd",
   "metadata": {},
   "outputs": [],
   "source": [
    "\n",
    "from langgraph.graph import StateGraph, END\n",
    "from langgraph.checkpoint.memory import InMemorySaver\n",
    "from typing import TypedDict\n",
    "import time"
   ]
  },
  {
   "cell_type": "code",
   "execution_count": 5,
   "id": "cbe3deb6",
   "metadata": {},
   "outputs": [],
   "source": [
    "class CrashState(TypedDict):\n",
    "    input: str\n",
    "    step1: str\n",
    "    step2: str"
   ]
  },
  {
   "cell_type": "code",
   "execution_count": 6,
   "id": "09fb88f9",
   "metadata": {},
   "outputs": [],
   "source": [
    "# 2. Define steps\n",
    "def step_1(state: CrashState) -> CrashState:\n",
    "    print(\"✅ Step 1 executed\")\n",
    "    return {\"step1\": \"done\", \"input\": state[\"input\"]}\n",
    "\n",
    "def step_2(state: CrashState) -> CrashState:\n",
    "    print(\"⏳ Step 2 hanging... now manually interrupt from the notebook toolbar (STOP button)\")\n",
    "    time.sleep(1000)  # Simulate long-running hang\n",
    "    return {\"step2\": \"done\"}\n",
    "\n",
    "def step_3(state: CrashState) -> CrashState:\n",
    "    print(\"✅ Step 3 executed\")\n",
    "    return {\"done\": True}"
   ]
  },
  {
   "cell_type": "code",
   "execution_count": 7,
   "id": "4c24b1d8",
   "metadata": {},
   "outputs": [],
   "source": [
    "builder = StateGraph(CrashState)\n",
    "builder.add_node(\"step_1\", step_1)\n",
    "builder.add_node(\"step_2\", step_2)\n",
    "builder.add_node(\"step_3\", step_3)\n",
    "\n",
    "builder.set_entry_point(\"step_1\")\n",
    "builder.add_edge(\"step_1\", \"step_2\")\n",
    "builder.add_edge(\"step_2\", \"step_3\")\n",
    "builder.add_edge(\"step_3\", END)\n",
    "\n",
    "checkpointer = InMemorySaver()\n",
    "graph = builder.compile(checkpointer=checkpointer)"
   ]
  },
  {
   "cell_type": "code",
   "execution_count": null,
   "id": "f4fe9018",
   "metadata": {},
   "outputs": [
    {
     "name": "stdout",
     "output_type": "stream",
     "text": [
      "▶️ Running graph: Please manually interrupt during Step 2...\n",
      "✅ Step 1 executed\n",
      "⏳ Step 2 hanging... now manually interrupt from the notebook toolbar (STOP button)\n"
     ]
    }
   ],
   "source": [
    "try:\n",
    "    print(\"▶️ Running graph: Please manually interrupt during Step 2...\")\n",
    "    graph.invoke({\"input\": \"start\"}, config={\"configurable\": {\"thread_id\": 'thread-1'}})\n",
    "except KeyboardInterrupt:\n",
    "    print(\"❌ Kernel manually interrupted (crash simulated).\")"
   ]
  },
  {
   "cell_type": "code",
   "execution_count": null,
   "id": "b7bbe15d",
   "metadata": {},
   "outputs": [],
   "source": [
    "# 6. Re-run to show fault-tolerant resume\n",
    "print(\"\\n🔁 Re-running the graph to demonstrate fault tolerance...\")\n",
    "final_state = graph.invoke(None, config={\"configurable\": {\"thread_id\": 'thread-1'}})\n",
    "print(\"\\n✅ Final State:\", final_state)"
   ]
  },
  {
   "cell_type": "code",
   "execution_count": null,
   "id": "8be07f93",
   "metadata": {},
   "outputs": [],
   "source": [
    "list(graph.get_state_history({\"configurable\": {\"thread_id\": 'thread-1'}}))"
   ]
  },
  {
   "cell_type": "markdown",
   "id": "1c1b35da",
   "metadata": {},
   "source": [
    "# Time Travel"
   ]
  },
  {
   "cell_type": "code",
   "execution_count": null,
   "id": "1e09b00f",
   "metadata": {},
   "outputs": [],
   "source": [
    "workflow.get_state({\"configurable\": {\"thread_id\": \"1\", \"checkpoint_id\": \"1f06cc6e-7232-6cb1-8000-f71609e6cec5\"}})"
   ]
  },
  {
   "cell_type": "code",
   "execution_count": null,
   "id": "9791fca3",
   "metadata": {},
   "outputs": [],
   "source": [
    "workflow.invoke(None, {\"configurable\": {\"thread_id\": \"1\", \"checkpoint_id\": \"1f06cc6e-7232-6cb1-8000-f71609e6cec5\"}})"
   ]
  },
  {
   "cell_type": "code",
   "execution_count": null,
   "id": "063ba357",
   "metadata": {},
   "outputs": [],
   "source": [
    "list(workflow.get_state_history(config1))"
   ]
  },
  {
   "cell_type": "markdown",
   "id": "f4e1e738",
   "metadata": {},
   "source": [
    "# Updating State"
   ]
  },
  {
   "cell_type": "code",
   "execution_count": null,
   "id": "3529786a",
   "metadata": {},
   "outputs": [],
   "source": [
    "workflow.update_state({\"configurable\": {\"thread_id\": \"1\", \"checkpoint_id\": \"1f06cc6e-7232-6cb1-8000-f71609e6cec5\", \"checkpoint_ns\": \"\"}}, {'topic':'samosa'})"
   ]
  },
  {
   "cell_type": "code",
   "execution_count": null,
   "id": "f2d8bfbf",
   "metadata": {},
   "outputs": [],
   "source": [
    "list(workflow.get_state_history(config1))"
   ]
  },
  {
   "cell_type": "code",
   "execution_count": null,
   "id": "97c53ef2",
   "metadata": {},
   "outputs": [],
   "source": [
    "workflow.invoke(None, {\"configurable\": {\"thread_id\": \"1\", \"checkpoint_id\": \"1f06cc72-ca16-6359-8001-7eea05e07dd2\"}})\n"
   ]
  },
  {
   "cell_type": "code",
   "execution_count": null,
   "id": "2b4a3a70",
   "metadata": {},
   "outputs": [],
   "source": [
    "list(workflow.get_state_history(config1))\n"
   ]
  },
  {
   "cell_type": "markdown",
   "id": "65871cde",
   "metadata": {},
   "source": [
    "# The End, not from Learning"
   ]
  },
  {
   "cell_type": "markdown",
   "id": "db543c2e",
   "metadata": {},
   "source": []
  }
 ],
 "metadata": {
  "kernelspec": {
   "display_name": "myenv",
   "language": "python",
   "name": "python3"
  },
  "language_info": {
   "codemirror_mode": {
    "name": "ipython",
    "version": 3
   },
   "file_extension": ".py",
   "mimetype": "text/x-python",
   "name": "python",
   "nbconvert_exporter": "python",
   "pygments_lexer": "ipython3",
   "version": "3.12.2"
  }
 },
 "nbformat": 4,
 "nbformat_minor": 5
}
