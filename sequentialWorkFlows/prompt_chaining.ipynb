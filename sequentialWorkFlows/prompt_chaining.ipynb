{
 "cells": [
  {
   "cell_type": "code",
   "execution_count": 1,
   "id": "514b132f",
   "metadata": {},
   "outputs": [],
   "source": [
    "from langgraph.graph import StateGraph, START, END\n",
    "from typing import TypedDict\n",
    "from langchain_google_genai import ChatGoogleGenerativeAI\n",
    "from dotenv import load_dotenv"
   ]
  },
  {
   "cell_type": "code",
   "execution_count": 2,
   "id": "93ab9084",
   "metadata": {},
   "outputs": [],
   "source": [
    "import os \n",
    "load_dotenv()\n",
    "api_key = os.getenv(\"GOOGLE_API_KEY\")"
   ]
  },
  {
   "cell_type": "code",
   "execution_count": 3,
   "id": "318108f5",
   "metadata": {},
   "outputs": [],
   "source": [
    "model = ChatGoogleGenerativeAI(\n",
    "    model=\"gemini-2.5-flash\",\n",
    "    api_key = api_key\n",
    ")"
   ]
  },
  {
   "cell_type": "code",
   "execution_count": 4,
   "id": "39979c78",
   "metadata": {},
   "outputs": [],
   "source": [
    "class BlogState(TypedDict):\n",
    "\n",
    "    title : str\n",
    "    outline : str\n",
    "    content : str"
   ]
  },
  {
   "cell_type": "code",
   "execution_count": 11,
   "id": "c0b4dea2",
   "metadata": {},
   "outputs": [],
   "source": [
    "def create_outline(state:BlogState)->BlogState:\n",
    "\n",
    "    # fetch title\n",
    "    title = state['title']\n",
    "\n",
    "    # call llm get outline\n",
    "    prompt = f'Generate a brief outline for a blog on the topic - {title}'\n",
    "    outline = model.invoke(prompt).content\n",
    "\n",
    "    #update the outline\n",
    "    state['outline'] = outline\n",
    "\n",
    "    return state\n"
   ]
  },
  {
   "cell_type": "code",
   "execution_count": 12,
   "id": "50655540",
   "metadata": {},
   "outputs": [],
   "source": [
    "def create_blog(state:BlogState)->BlogState:\n",
    "\n",
    "    title = state['title']\n",
    "    outline = state['outline']\n",
    "\n",
    "    prompt = f'Write a detailed blog on the title - {title} using the following outline \\n{outline}'\n",
    "\n",
    "    content = model.invoke(prompt).content\n",
    "    state['content'] = content\n",
    "\n",
    "    return state"
   ]
  },
  {
   "cell_type": "code",
   "execution_count": 13,
   "id": "34ce94fe",
   "metadata": {},
   "outputs": [],
   "source": [
    "graph = StateGraph(BlogState)\n",
    "\n",
    "# nodes\n",
    "graph.add_node('create_outline', create_outline)\n",
    "graph.add_node('create_blog', create_blog)\n",
    "\n",
    "# edges\n",
    "graph.add_edge(START, 'create_outline')\n",
    "graph.add_edge('create_outline', 'create_blog')\n",
    "graph.add_edge('create_blog', END)\n",
    "\n",
    "workflow = graph.compile()"
   ]
  },
  {
   "cell_type": "code",
   "execution_count": 14,
   "id": "c11a501c",
   "metadata": {},
   "outputs": [
    {
     "name": "stdout",
     "output_type": "stream",
     "text": [
      "{'title': 'Rise of AI in india', 'outline': 'Here\\'s a brief outline for a blog post on \"The Rise of AI in India\":\\n\\n**Blog Title Idea:** The AI Awakening: India\\'s Ascent in the Global Artificial Intelligence Landscape\\n\\n---\\n\\n**I. Introduction**\\n    A. Hook: The global AI revolution and India\\'s unique position.\\n    B. Brief overview: India\\'s rapid adoption and growing influence in AI.\\n    C. Thesis: Exploring the drivers, key applications, challenges, and future potential of AI in India.\\n\\n**II. Key Drivers of AI Adoption in India**\\n    A. **Vast Talent Pool:** Large number of STEM graduates, tech workforce.\\n    B. **Digital Infrastructure:** JAM trinity (Jandhan, Aadhaar, Mobile), UPI, internet penetration.\\n    C. **Government Support & Initiatives:** National AI Strategy, \\'AI for All\\', emphasis on responsible AI.\\n    D. **Thriving Startup Ecosystem:** Increased investment, innovation, and entrepreneurship in AI.\\n    E. **Data Availability:** Large population generating diverse datasets.\\n\\n**III. AI\\'s Impact Across Key Indian Sectors**\\n    A. **Healthcare:** Diagnostics, drug discovery, remote patient monitoring, personalized medicine.\\n    B. **FinTech:** Fraud detection, personalized banking, credit scoring, algorithmic trading.\\n    C. **Agriculture:** Crop yield optimization, weather prediction, pest detection, precision farming.\\n    D. **Education:** Personalized learning platforms, administrative efficiency, content creation.\\n    E. **Public Services:** Citizen engagement, grievance redressal, smart city initiatives.\\n\\n**IV. Challenges and Considerations**\\n    A. **Data Privacy & Security:** Ensuring ethical handling of vast datasets.\\n    B. **Ethical AI & Bias:** Addressing biases in algorithms, promoting fairness.\\n    C. **Skill Gap:** Need for advanced AI research and specialized skills beyond basic implementation.\\n    D. **Infrastructure Disparities:** Bridging the gap between urban and rural access to technology.\\n    E. **Regulatory Framework:** Evolving laws and standards for AI governance.\\n\\n**V. The Road Ahead: India\\'s AI Future**\\n    A. **Recap:** India\\'s dynamic journey in AI innovation and adoption.\\n    B. **Potential:** Becoming a global AI powerhouse, driving economic growth, solving societal problems (e.g., \"AI for Good\").\\n    C. **Conclusion:** A transformative era for India, leveraging AI for a smarter, more inclusive future.', 'content': '## The AI Awakening: India\\'s Ascent in the Global Artificial Intelligence Landscape\\n\\nThe drums of a new revolution are beating across the globe, reverberating with the hum of algorithms and the whir of intelligent machines. Artificial Intelligence (AI) is no longer a futuristic dream but a present-day reality, reshaping industries, economies, and societies. In this global AI awakening, India stands out as a unique and increasingly influential player. From its bustling tech hubs to its vast rural landscapes, AI is rapidly being adopted, integrated, and innovated upon, positioning India as a formidable force in the global AI arena.\\n\\nThis blog post delves into India\\'s remarkable journey in AI – exploring the powerful drivers propelling its growth, the transformative impact across key sectors, the critical challenges that need addressing, and the boundless potential that lies ahead.\\n\\n---\\n\\n### I. Introduction\\n\\nThe global AI revolution is undeniably upon us, promising to redefine human capabilities and drive unprecedented progress. Amidst this technological upheaval, India, with its unique blend of demographic advantages, digital infrastructure, and entrepreneurial spirit, is not just a spectator but a proactive participant. The nation is witnessing a rapid adoption of AI across various domains, translating into tangible benefits and fostering a dynamic ecosystem of innovation. This piece aims to unravel the intricate tapestry of India\\'s AI landscape, dissecting the forces fueling its rise, the diverse applications taking root, the hurdles that must be overcome, and the promising future that awaits.\\n\\n---\\n\\n### II. Key Drivers of AI Adoption in India\\n\\nIndia\\'s burgeoning AI ecosystem is powered by a confluence of strategic advantages and proactive initiatives:\\n\\nA. **Vast Talent Pool:** At the heart of India\\'s AI ascent lies its massive and ever-growing pool of STEM graduates. The country produces millions of engineers and technology professionals annually, many of whom possess the foundational skills in data science, programming, and mathematics essential for AI development. This demographic dividend provides a continuous supply of skilled individuals ready to contribute to AI research, development, and deployment.\\n\\nB. **Digital Infrastructure:** The backbone of India\\'s digital transformation, often referred to as the \"JAM trinity\" (Jandhan-Aadhaar-Mobile), has laid fertile ground for AI. Jandhan accounts have brought millions into the formal financial system, Aadhaar provides a unique digital identity, and widespread mobile penetration ensures connectivity. Further bolstered by the phenomenal success of the Unified Payments Interface (UPI) and rapidly expanding internet access, this robust digital infrastructure enables seamless data flow and digital transactions, crucial for AI applications.\\n\\nC. **Government Support & Initiatives:** Recognizing AI\\'s strategic importance, the Indian government has actively championed its growth. Initiatives like the \\'National Strategy for Artificial Intelligence\\' by NITI Aayog, with its vision of \\'AI for All,\\' underscore a commitment to leveraging AI for inclusive growth. Emphasis on responsible AI development, ethical guidelines, and funding for research and development further demonstrates a proactive approach to nurturing the sector.\\n\\nD. **Thriving Startup Ecosystem:** India\\'s entrepreneurial spirit has found a new frontier in AI. The country boasts one of the fastest-growing startup ecosystems globally, with significant investment pouring into AI-focused ventures. Incubators, accelerators, and venture capitalists are actively supporting innovation in areas ranging from natural language processing to computer vision, fostering a culture of rapid prototyping and solution development.\\n\\nE. **Data Availability:** With a population exceeding 1.4 billion, India generates an unprecedented volume and diversity of data. From demographic information to consumption patterns, digital transactions, and social media interactions, this vast ocean of data serves as the lifeblood for training and refining AI models, enabling them to learn and perform tasks with increasing accuracy and relevance to the Indian context.\\n\\n---\\n\\n### III. AI\\'s Impact Across Key Indian Sectors\\n\\nAI is not just a technological advancement; it\\'s a transformative force reshaping the very fabric of Indian society and economy. Its applications are diverse and impactful:\\n\\nA. **Healthcare:** AI is revolutionizing healthcare delivery, especially in a country with significant disparities in access. From AI-powered diagnostics for early detection of diseases like diabetic retinopathy and certain cancers to personalized treatment plans based on genetic data, AI is enhancing accuracy and efficiency. It\\'s also facilitating drug discovery, optimizing hospital management, and enabling remote patient monitoring, making quality healthcare more accessible.\\n\\nB. **FinTech:** The financial sector is an early and enthusiastic adopter of AI. Fraud detection systems powered by AI analyze vast transaction data to identify suspicious activities in real-time. Personalized banking experiences, credit scoring for the unbanked, algorithmic trading, and customer service chatbots are enhancing efficiency, reducing risks, and expanding financial inclusion across India.\\n\\nC. **Agriculture:** In a nation where agriculture is the backbone of the economy, AI offers solutions to age-old challenges. AI-powered tools provide accurate crop yield optimization predictions, precise weather forecasting, and early detection of pests and diseases. Precision farming techniques, leveraging satellite imagery and IoT sensors, help farmers optimize water and fertilizer usage, leading to higher productivity and reduced waste.\\n\\nD. **Education:** AI is personalizing learning at an unprecedented scale. Adaptive learning platforms tailor content to individual student needs and pace, while AI-powered tutors offer instant feedback and support. AI also streamlines administrative tasks, automates grading, and assists in content creation, making education more engaging, efficient, and accessible, particularly in remote areas.\\n\\nE. **Public Services:** AI is being harnessed to improve governance and citizen engagement. Smart city initiatives utilize AI for intelligent traffic management, waste optimization, and public safety. AI-powered grievance redressal systems, predictive analytics for disaster management, and personalized government service delivery are making public services more responsive and citizen-centric.\\n\\n---\\n\\n### IV. Challenges and Considerations\\n\\nWhile India\\'s AI journey is marked by remarkable progress, it is not without its share of significant challenges that require careful navigation:\\n\\nA. **Data Privacy & Security:** The sheer volume of data generated in India raises critical concerns about privacy and security. Ensuring ethical handling, robust encryption, and adherence to evolving data protection laws (like the Digital Personal Data Protection Act) is paramount to building public trust and preventing misuse of sensitive information.\\n\\nB. **Ethical AI & Bias:** AI algorithms are only as unbiased as the data they are trained on. In a diverse country like India, there\\'s a significant risk of perpetuating or amplifying existing societal biases if AI models are trained on skewed datasets. Addressing biases in algorithms, promoting fairness, accountability, and transparency in AI development is crucial to prevent discriminatory outcomes, especially in critical applications like credit scoring or hiring.\\n\\nC. **Skill Gap:** While India boasts a large tech workforce, there\\'s a growing need for highly specialized skills in advanced AI research, machine learning engineering, and ethical AI development. Bridging this skill gap through focused education, research grants, and industry-academia collaborations is essential to move beyond basic implementation to cutting-edge innovation.\\n\\nD. **Infrastructure Disparities:** Despite significant digital growth, a digital divide persists. Bridging the gap between urban and rural access to high-speed internet, reliable electricity, and computing power is crucial to ensure that the benefits of AI are truly inclusive and reach every corner of the nation.\\n\\nE. **Regulatory Framework:** As AI technology evolves at a rapid pace, establishing a comprehensive and agile regulatory framework becomes increasingly important. Evolving laws and standards for AI governance, intellectual property, liability, and ethical guidelines are needed to foster responsible innovation while protecting citizens\\' rights.\\n\\n---\\n\\n### V. The Road Ahead: India\\'s AI Future\\n\\nIndia\\'s dynamic journey in AI innovation and adoption is just beginning. The nation stands at the cusp of a transformative era, poised to leverage AI not just for economic growth but also for profound societal impact.\\n\\nThe potential for India to become a global AI powerhouse is immense. By nurturing its talent, strengthening its digital backbone, fostering responsible innovation, and addressing challenges proactively, India can drive significant economic growth, create new industries, and generate millions of jobs. More importantly, it can harness AI to solve some of its most pressing societal problems – from poverty and illiteracy to healthcare access and environmental sustainability – embodying the spirit of \"AI for Good.\"\\n\\nAs India continues to invest in research, foster collaboration, and build a robust AI ecosystem, it is not merely adopting a technology; it is crafting a smarter, more inclusive, and more equitable future for its citizens and demonstrating to the world the power of AI when applied with purpose and vision. The AI awakening in India is not just a technological shift; it\\'s a national endeavor promising a brighter tomorrow.'}\n"
     ]
    }
   ],
   "source": [
    "initial_state = {'title':'Rise of AI in india'}\n",
    "\n",
    "final_state = workflow.invoke(initial_state)\n",
    "\n",
    "print(final_state)"
   ]
  },
  {
   "cell_type": "code",
   "execution_count": 15,
   "id": "25ecfec9",
   "metadata": {},
   "outputs": [
    {
     "name": "stdout",
     "output_type": "stream",
     "text": [
      "Here's a brief outline for a blog post on \"The Rise of AI in India\":\n",
      "\n",
      "**Blog Title Idea:** The AI Awakening: India's Ascent in the Global Artificial Intelligence Landscape\n",
      "\n",
      "---\n",
      "\n",
      "**I. Introduction**\n",
      "    A. Hook: The global AI revolution and India's unique position.\n",
      "    B. Brief overview: India's rapid adoption and growing influence in AI.\n",
      "    C. Thesis: Exploring the drivers, key applications, challenges, and future potential of AI in India.\n",
      "\n",
      "**II. Key Drivers of AI Adoption in India**\n",
      "    A. **Vast Talent Pool:** Large number of STEM graduates, tech workforce.\n",
      "    B. **Digital Infrastructure:** JAM trinity (Jandhan, Aadhaar, Mobile), UPI, internet penetration.\n",
      "    C. **Government Support & Initiatives:** National AI Strategy, 'AI for All', emphasis on responsible AI.\n",
      "    D. **Thriving Startup Ecosystem:** Increased investment, innovation, and entrepreneurship in AI.\n",
      "    E. **Data Availability:** Large population generating diverse datasets.\n",
      "\n",
      "**III. AI's Impact Across Key Indian Sectors**\n",
      "    A. **Healthcare:** Diagnostics, drug discovery, remote patient monitoring, personalized medicine.\n",
      "    B. **FinTech:** Fraud detection, personalized banking, credit scoring, algorithmic trading.\n",
      "    C. **Agriculture:** Crop yield optimization, weather prediction, pest detection, precision farming.\n",
      "    D. **Education:** Personalized learning platforms, administrative efficiency, content creation.\n",
      "    E. **Public Services:** Citizen engagement, grievance redressal, smart city initiatives.\n",
      "\n",
      "**IV. Challenges and Considerations**\n",
      "    A. **Data Privacy & Security:** Ensuring ethical handling of vast datasets.\n",
      "    B. **Ethical AI & Bias:** Addressing biases in algorithms, promoting fairness.\n",
      "    C. **Skill Gap:** Need for advanced AI research and specialized skills beyond basic implementation.\n",
      "    D. **Infrastructure Disparities:** Bridging the gap between urban and rural access to technology.\n",
      "    E. **Regulatory Framework:** Evolving laws and standards for AI governance.\n",
      "\n",
      "**V. The Road Ahead: India's AI Future**\n",
      "    A. **Recap:** India's dynamic journey in AI innovation and adoption.\n",
      "    B. **Potential:** Becoming a global AI powerhouse, driving economic growth, solving societal problems (e.g., \"AI for Good\").\n",
      "    C. **Conclusion:** A transformative era for India, leveraging AI for a smarter, more inclusive future.\n"
     ]
    }
   ],
   "source": [
    "print(final_state['outline'])"
   ]
  },
  {
   "cell_type": "code",
   "execution_count": 16,
   "id": "039be463",
   "metadata": {},
   "outputs": [
    {
     "name": "stdout",
     "output_type": "stream",
     "text": [
      "## The AI Awakening: India's Ascent in the Global Artificial Intelligence Landscape\n",
      "\n",
      "The drums of a new revolution are beating across the globe, reverberating with the hum of algorithms and the whir of intelligent machines. Artificial Intelligence (AI) is no longer a futuristic dream but a present-day reality, reshaping industries, economies, and societies. In this global AI awakening, India stands out as a unique and increasingly influential player. From its bustling tech hubs to its vast rural landscapes, AI is rapidly being adopted, integrated, and innovated upon, positioning India as a formidable force in the global AI arena.\n",
      "\n",
      "This blog post delves into India's remarkable journey in AI – exploring the powerful drivers propelling its growth, the transformative impact across key sectors, the critical challenges that need addressing, and the boundless potential that lies ahead.\n",
      "\n",
      "---\n",
      "\n",
      "### I. Introduction\n",
      "\n",
      "The global AI revolution is undeniably upon us, promising to redefine human capabilities and drive unprecedented progress. Amidst this technological upheaval, India, with its unique blend of demographic advantages, digital infrastructure, and entrepreneurial spirit, is not just a spectator but a proactive participant. The nation is witnessing a rapid adoption of AI across various domains, translating into tangible benefits and fostering a dynamic ecosystem of innovation. This piece aims to unravel the intricate tapestry of India's AI landscape, dissecting the forces fueling its rise, the diverse applications taking root, the hurdles that must be overcome, and the promising future that awaits.\n",
      "\n",
      "---\n",
      "\n",
      "### II. Key Drivers of AI Adoption in India\n",
      "\n",
      "India's burgeoning AI ecosystem is powered by a confluence of strategic advantages and proactive initiatives:\n",
      "\n",
      "A. **Vast Talent Pool:** At the heart of India's AI ascent lies its massive and ever-growing pool of STEM graduates. The country produces millions of engineers and technology professionals annually, many of whom possess the foundational skills in data science, programming, and mathematics essential for AI development. This demographic dividend provides a continuous supply of skilled individuals ready to contribute to AI research, development, and deployment.\n",
      "\n",
      "B. **Digital Infrastructure:** The backbone of India's digital transformation, often referred to as the \"JAM trinity\" (Jandhan-Aadhaar-Mobile), has laid fertile ground for AI. Jandhan accounts have brought millions into the formal financial system, Aadhaar provides a unique digital identity, and widespread mobile penetration ensures connectivity. Further bolstered by the phenomenal success of the Unified Payments Interface (UPI) and rapidly expanding internet access, this robust digital infrastructure enables seamless data flow and digital transactions, crucial for AI applications.\n",
      "\n",
      "C. **Government Support & Initiatives:** Recognizing AI's strategic importance, the Indian government has actively championed its growth. Initiatives like the 'National Strategy for Artificial Intelligence' by NITI Aayog, with its vision of 'AI for All,' underscore a commitment to leveraging AI for inclusive growth. Emphasis on responsible AI development, ethical guidelines, and funding for research and development further demonstrates a proactive approach to nurturing the sector.\n",
      "\n",
      "D. **Thriving Startup Ecosystem:** India's entrepreneurial spirit has found a new frontier in AI. The country boasts one of the fastest-growing startup ecosystems globally, with significant investment pouring into AI-focused ventures. Incubators, accelerators, and venture capitalists are actively supporting innovation in areas ranging from natural language processing to computer vision, fostering a culture of rapid prototyping and solution development.\n",
      "\n",
      "E. **Data Availability:** With a population exceeding 1.4 billion, India generates an unprecedented volume and diversity of data. From demographic information to consumption patterns, digital transactions, and social media interactions, this vast ocean of data serves as the lifeblood for training and refining AI models, enabling them to learn and perform tasks with increasing accuracy and relevance to the Indian context.\n",
      "\n",
      "---\n",
      "\n",
      "### III. AI's Impact Across Key Indian Sectors\n",
      "\n",
      "AI is not just a technological advancement; it's a transformative force reshaping the very fabric of Indian society and economy. Its applications are diverse and impactful:\n",
      "\n",
      "A. **Healthcare:** AI is revolutionizing healthcare delivery, especially in a country with significant disparities in access. From AI-powered diagnostics for early detection of diseases like diabetic retinopathy and certain cancers to personalized treatment plans based on genetic data, AI is enhancing accuracy and efficiency. It's also facilitating drug discovery, optimizing hospital management, and enabling remote patient monitoring, making quality healthcare more accessible.\n",
      "\n",
      "B. **FinTech:** The financial sector is an early and enthusiastic adopter of AI. Fraud detection systems powered by AI analyze vast transaction data to identify suspicious activities in real-time. Personalized banking experiences, credit scoring for the unbanked, algorithmic trading, and customer service chatbots are enhancing efficiency, reducing risks, and expanding financial inclusion across India.\n",
      "\n",
      "C. **Agriculture:** In a nation where agriculture is the backbone of the economy, AI offers solutions to age-old challenges. AI-powered tools provide accurate crop yield optimization predictions, precise weather forecasting, and early detection of pests and diseases. Precision farming techniques, leveraging satellite imagery and IoT sensors, help farmers optimize water and fertilizer usage, leading to higher productivity and reduced waste.\n",
      "\n",
      "D. **Education:** AI is personalizing learning at an unprecedented scale. Adaptive learning platforms tailor content to individual student needs and pace, while AI-powered tutors offer instant feedback and support. AI also streamlines administrative tasks, automates grading, and assists in content creation, making education more engaging, efficient, and accessible, particularly in remote areas.\n",
      "\n",
      "E. **Public Services:** AI is being harnessed to improve governance and citizen engagement. Smart city initiatives utilize AI for intelligent traffic management, waste optimization, and public safety. AI-powered grievance redressal systems, predictive analytics for disaster management, and personalized government service delivery are making public services more responsive and citizen-centric.\n",
      "\n",
      "---\n",
      "\n",
      "### IV. Challenges and Considerations\n",
      "\n",
      "While India's AI journey is marked by remarkable progress, it is not without its share of significant challenges that require careful navigation:\n",
      "\n",
      "A. **Data Privacy & Security:** The sheer volume of data generated in India raises critical concerns about privacy and security. Ensuring ethical handling, robust encryption, and adherence to evolving data protection laws (like the Digital Personal Data Protection Act) is paramount to building public trust and preventing misuse of sensitive information.\n",
      "\n",
      "B. **Ethical AI & Bias:** AI algorithms are only as unbiased as the data they are trained on. In a diverse country like India, there's a significant risk of perpetuating or amplifying existing societal biases if AI models are trained on skewed datasets. Addressing biases in algorithms, promoting fairness, accountability, and transparency in AI development is crucial to prevent discriminatory outcomes, especially in critical applications like credit scoring or hiring.\n",
      "\n",
      "C. **Skill Gap:** While India boasts a large tech workforce, there's a growing need for highly specialized skills in advanced AI research, machine learning engineering, and ethical AI development. Bridging this skill gap through focused education, research grants, and industry-academia collaborations is essential to move beyond basic implementation to cutting-edge innovation.\n",
      "\n",
      "D. **Infrastructure Disparities:** Despite significant digital growth, a digital divide persists. Bridging the gap between urban and rural access to high-speed internet, reliable electricity, and computing power is crucial to ensure that the benefits of AI are truly inclusive and reach every corner of the nation.\n",
      "\n",
      "E. **Regulatory Framework:** As AI technology evolves at a rapid pace, establishing a comprehensive and agile regulatory framework becomes increasingly important. Evolving laws and standards for AI governance, intellectual property, liability, and ethical guidelines are needed to foster responsible innovation while protecting citizens' rights.\n",
      "\n",
      "---\n",
      "\n",
      "### V. The Road Ahead: India's AI Future\n",
      "\n",
      "India's dynamic journey in AI innovation and adoption is just beginning. The nation stands at the cusp of a transformative era, poised to leverage AI not just for economic growth but also for profound societal impact.\n",
      "\n",
      "The potential for India to become a global AI powerhouse is immense. By nurturing its talent, strengthening its digital backbone, fostering responsible innovation, and addressing challenges proactively, India can drive significant economic growth, create new industries, and generate millions of jobs. More importantly, it can harness AI to solve some of its most pressing societal problems – from poverty and illiteracy to healthcare access and environmental sustainability – embodying the spirit of \"AI for Good.\"\n",
      "\n",
      "As India continues to invest in research, foster collaboration, and build a robust AI ecosystem, it is not merely adopting a technology; it is crafting a smarter, more inclusive, and more equitable future for its citizens and demonstrating to the world the power of AI when applied with purpose and vision. The AI awakening in India is not just a technological shift; it's a national endeavor promising a brighter tomorrow.\n"
     ]
    }
   ],
   "source": [
    "print(final_state['content'])"
   ]
  }
 ],
 "metadata": {
  "kernelspec": {
   "display_name": "myenv",
   "language": "python",
   "name": "python3"
  },
  "language_info": {
   "codemirror_mode": {
    "name": "ipython",
    "version": 3
   },
   "file_extension": ".py",
   "mimetype": "text/x-python",
   "name": "python",
   "nbconvert_exporter": "python",
   "pygments_lexer": "ipython3",
   "version": "3.12.2"
  }
 },
 "nbformat": 4,
 "nbformat_minor": 5
}
